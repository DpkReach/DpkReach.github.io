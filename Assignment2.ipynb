{
  "cells": [
    {
      "cell_type": "markdown",
      "metadata": {
        "id": "view-in-github",
        "colab_type": "text"
      },
      "source": [
        "<a href=\"https://colab.research.google.com/github/DpkReach/DpkReach.github.io/blob/main/Assignment2.ipynb\" target=\"_parent\"><img src=\"https://colab.research.google.com/assets/colab-badge.svg\" alt=\"Open In Colab\"/></a>"
      ]
    },
    {
      "cell_type": "markdown",
      "metadata": {
        "id": "I2pDZrw37lhw"
      },
      "source": [
        "## CSCE 5300: Introduction to Big data and Data Science\n",
        "\n",
        "### SPRING 2024\n",
        "\n",
        "### Assignment-2\n"
      ]
    },
    {
      "cell_type": "markdown",
      "metadata": {
        "id": "IuOnypNoHB3d"
      },
      "source": [
        "### Submission Guidelines\n",
        "\n",
        "#### 1. Submit .ipynb and pdf(you can use some external ipynb to pdf converter Ex:vertopal.com) to canvas.\n",
        "#### 2. Provide code where ever needed and explain each code cell\n",
        "#### 3. Plagiarism should be less than 15%.\n",
        "#### 4. You can do the tasks in either Google Colab or AWS.\n",
        "#### 5. We are providing one ipynb file which consists of Machine Learning and  pyspark Questions.\n",
        "#### 6. Do not perform Task 3 using pyspark.\n",
        "\n",
        "\n"
      ]
    },
    {
      "cell_type": "markdown",
      "metadata": {
        "id": "JqSVkF4z53V4"
      },
      "source": [
        "#### Note:\n",
        "\n",
        "#### For Task 1 and Task 2 you can refer to the Pyspark Tutorial\n",
        "#### For Task 3 you can refer to the ML tutorial\n",
        "\n"
      ]
    },
    {
      "cell_type": "markdown",
      "source": [],
      "metadata": {
        "id": "sLGYKFEthCrw"
      }
    },
    {
      "cell_type": "markdown",
      "metadata": {
        "id": "Cht2brDyzk-L"
      },
      "source": [
        "### **Task 1: Spark Rdds (40%)**"
      ]
    },
    {
      "cell_type": "markdown",
      "metadata": {
        "id": "9ZG7wMhjz-44"
      },
      "source": [
        "#### Question Descriptive"
      ]
    },
    {
      "cell_type": "markdown",
      "metadata": {
        "id": "SZUS8zLhyh8m"
      },
      "source": [
        "\n",
        "#### A) Explain the differences between RDD transformations and actions, and provide at least three instances of typical actions with examples. (10%)\n",
        "\n",
        "##### Min. 200 words"
      ]
    },
    {
      "cell_type": "markdown",
      "metadata": {
        "id": "AMp5JTyT1EfT"
      },
      "source": [
        "Answer Here:"
      ]
    },
    {
      "cell_type": "markdown",
      "metadata": {
        "id": "3jd3kZTg84jW"
      },
      "source": [
        "#### Question Implementation (30%)"
      ]
    },
    {
      "cell_type": "markdown",
      "metadata": {
        "id": "gJAh-nU69K5q"
      },
      "source": [
        "#### B) Display the records and count of Movie table and rating table\n",
        "\n",
        "(Hint: file.count())"
      ]
    },
    {
      "cell_type": "code",
      "source": [
        "#Type your code here\n",
        "#Installing PySpark through pip\n",
        "!pip install pyspark"
      ],
      "metadata": {
        "colab": {
          "base_uri": "https://localhost:8080/"
        },
        "id": "mukuFBpzTeCE",
        "outputId": "5e968d17-d104-41e1-bc61-870023f43e5a"
      },
      "execution_count": 2,
      "outputs": [
        {
          "output_type": "stream",
          "name": "stdout",
          "text": [
            "Collecting pyspark\n",
            "  Downloading pyspark-3.5.1.tar.gz (317.0 MB)\n",
            "\u001b[2K     \u001b[90m━━━━━━━━━━━━━━━━━━━━━━━━━━━━━━━━━━━━━━━━\u001b[0m \u001b[32m317.0/317.0 MB\u001b[0m \u001b[31m4.1 MB/s\u001b[0m eta \u001b[36m0:00:00\u001b[0m\n",
            "\u001b[?25h  Preparing metadata (setup.py) ... \u001b[?25l\u001b[?25hdone\n",
            "Requirement already satisfied: py4j==0.10.9.7 in /usr/local/lib/python3.10/dist-packages (from pyspark) (0.10.9.7)\n",
            "Building wheels for collected packages: pyspark\n",
            "  Building wheel for pyspark (setup.py) ... \u001b[?25l\u001b[?25hdone\n",
            "  Created wheel for pyspark: filename=pyspark-3.5.1-py2.py3-none-any.whl size=317488491 sha256=1de88e8476cde844271384917da38108e1f36af71f73875d3817f82c5741ed19\n",
            "  Stored in directory: /root/.cache/pip/wheels/80/1d/60/2c256ed38dddce2fdd93be545214a63e02fbd8d74fb0b7f3a6\n",
            "Successfully built pyspark\n",
            "Installing collected packages: pyspark\n",
            "Successfully installed pyspark-3.5.1\n"
          ]
        }
      ]
    },
    {
      "cell_type": "code",
      "execution_count": 3,
      "metadata": {
        "id": "7JG8Aq2D9NPf"
      },
      "outputs": [],
      "source": [
        "\n",
        "#Importing spark Session\n",
        "from pyspark.sql import SparkSession\n",
        "\n",
        "#creating RDD\n",
        "#Session name meaning ful apart from dataframe\n",
        "spark=SparkSession.builder.appName('WordlistAnalysis').getOrCreate()\n"
      ]
    },
    {
      "cell_type": "code",
      "source": [
        "spark"
      ],
      "metadata": {
        "colab": {
          "base_uri": "https://localhost:8080/",
          "height": 221
        },
        "id": "Beo4QwCDTNp5",
        "outputId": "433e4ea4-098b-481d-fbe5-8f872d451b20"
      },
      "execution_count": 4,
      "outputs": [
        {
          "output_type": "execute_result",
          "data": {
            "text/plain": [
              "<pyspark.sql.session.SparkSession at 0x794a39ac1d50>"
            ],
            "text/html": [
              "\n",
              "            <div>\n",
              "                <p><b>SparkSession - in-memory</b></p>\n",
              "                \n",
              "        <div>\n",
              "            <p><b>SparkContext</b></p>\n",
              "\n",
              "            <p><a href=\"http://4fc5d91c8ba5:4040\">Spark UI</a></p>\n",
              "\n",
              "            <dl>\n",
              "              <dt>Version</dt>\n",
              "                <dd><code>v3.5.1</code></dd>\n",
              "              <dt>Master</dt>\n",
              "                <dd><code>local[*]</code></dd>\n",
              "              <dt>AppName</dt>\n",
              "                <dd><code>WordlistAnalysis</code></dd>\n",
              "            </dl>\n",
              "        </div>\n",
              "        \n",
              "            </div>\n",
              "        "
            ]
          },
          "metadata": {},
          "execution_count": 4
        }
      ]
    },
    {
      "cell_type": "markdown",
      "source": [
        "Count of Movies"
      ],
      "metadata": {
        "id": "2W8LQfBR4Get"
      }
    },
    {
      "cell_type": "code",
      "source": [
        "file=spark.sparkContext.textFile(\"/content/BDDS_Ass2/movies-1.csv\")\n",
        "file.count()"
      ],
      "metadata": {
        "colab": {
          "base_uri": "https://localhost:8080/"
        },
        "id": "5Sry1KAFTYrR",
        "outputId": "7684c94c-4a21-4d9e-d12e-ffeee190a603"
      },
      "execution_count": 24,
      "outputs": [
        {
          "output_type": "execute_result",
          "data": {
            "text/plain": [
              "9743"
            ]
          },
          "metadata": {},
          "execution_count": 24
        }
      ]
    },
    {
      "cell_type": "markdown",
      "source": [
        "Count of Ratings"
      ],
      "metadata": {
        "id": "zka31w-a4KWu"
      }
    },
    {
      "cell_type": "code",
      "source": [
        "file=spark.sparkContext.textFile(\"/content/BDDS_Ass2/ratings-1-1.csv\")\n",
        "file.count()"
      ],
      "metadata": {
        "colab": {
          "base_uri": "https://localhost:8080/"
        },
        "id": "zItBapZ8U5hp",
        "outputId": "03fe26e1-4f11-475a-bd76-29b6f6025f0b"
      },
      "execution_count": 25,
      "outputs": [
        {
          "output_type": "execute_result",
          "data": {
            "text/plain": [
              "100837"
            ]
          },
          "metadata": {},
          "execution_count": 25
        }
      ]
    },
    {
      "cell_type": "markdown",
      "source": [
        "Display records from movies"
      ],
      "metadata": {
        "id": "tVm6ltG94PTW"
      }
    },
    {
      "cell_type": "code",
      "source": [
        "df = spark.read.csv(\"/content/BDDS_Ass2/movies-1.csv\", header=True, inferSchema=True)\n",
        "\n",
        "# Show the first few rows of the DataFrame\n",
        "df.show()"
      ],
      "metadata": {
        "colab": {
          "base_uri": "https://localhost:8080/"
        },
        "id": "Q2187y6bV61s",
        "outputId": "6df0475d-6493-4a20-d6a0-c690a9401c3a"
      },
      "execution_count": 7,
      "outputs": [
        {
          "output_type": "stream",
          "name": "stdout",
          "text": [
            "+-------+--------------------+--------------------+\n",
            "|movieId|               title|              genres|\n",
            "+-------+--------------------+--------------------+\n",
            "|      1|    Toy Story (1995)|Adventure|Animati...|\n",
            "|      2|      Jumanji (1995)|Adventure|Childre...|\n",
            "|      3|Grumpier Old Men ...|      Comedy|Romance|\n",
            "|      4|Waiting to Exhale...|Comedy|Drama|Romance|\n",
            "|      5|Father of the Bri...|              Comedy|\n",
            "|      6|         Heat (1995)|Action|Crime|Thri...|\n",
            "|      7|      Sabrina (1995)|      Comedy|Romance|\n",
            "|      8| Tom and Huck (1995)|  Adventure|Children|\n",
            "|      9| Sudden Death (1995)|              Action|\n",
            "|     10|    GoldenEye (1995)|Action|Adventure|...|\n",
            "|     11|American Presiden...|Comedy|Drama|Romance|\n",
            "|     12|Dracula: Dead and...|       Comedy|Horror|\n",
            "|     13|        Balto (1995)|Adventure|Animati...|\n",
            "|     14|        Nixon (1995)|               Drama|\n",
            "|     15|Cutthroat Island ...|Action|Adventure|...|\n",
            "|     16|       Casino (1995)|         Crime|Drama|\n",
            "|     17|Sense and Sensibi...|       Drama|Romance|\n",
            "|     18|   Four Rooms (1995)|              Comedy|\n",
            "|     19|Ace Ventura: When...|              Comedy|\n",
            "|     20|  Money Train (1995)|Action|Comedy|Cri...|\n",
            "+-------+--------------------+--------------------+\n",
            "only showing top 20 rows\n",
            "\n"
          ]
        }
      ]
    },
    {
      "cell_type": "markdown",
      "metadata": {
        "id": "tskxUgCs9YV6"
      },
      "source": [
        "#### C) Display the count of rating less than or equal to 2 as Rating_Counts\n",
        "\n",
        "(Hint: file.rating <= 2)"
      ]
    },
    {
      "cell_type": "code",
      "execution_count": 14,
      "metadata": {
        "id": "gveT0PdK9_0b",
        "colab": {
          "base_uri": "https://localhost:8080/"
        },
        "outputId": "23d7807c-e37d-4bc0-cfc3-bf1476a9f4f8"
      },
      "outputs": [
        {
          "output_type": "stream",
          "name": "stdout",
          "text": [
            "+-------------+\n",
            "|Rating_Counts|\n",
            "+-------------+\n",
            "|        13523|\n",
            "+-------------+\n",
            "\n"
          ]
        }
      ],
      "source": [
        "#Type your code here\n",
        "#file=spark.sparkContext.textFile(\"/content/BDDS_Ass2/ratings-1-1.csv\")\n",
        "#file.count()\n",
        "df = spark.read.csv(\"/content/BDDS_Ass2/ratings-1-1.csv\", header=True, inferSchema=True)\n",
        "\n",
        "# Show the first few rows of the DataFrame\n",
        "#df.show()\n",
        "\n",
        "#df = pd.DataFrame(data)\n",
        "\n",
        "# Count the ratings less than or equal to 2\n",
        "#rating_counts = df[df['rating'] <= 2]['rating'].count()\n",
        "\n",
        "# Display the count\n",
        "#print(\"Rating_Counts:\", rating_counts)\n",
        "\n",
        "# Assuming df is your DataFrame\n",
        "df.createOrReplaceGlobalTempView(\"ratings_view\")\n",
        "# Assuming spark is your SparkSession\n",
        "result = spark.sql(\"SELECT count(*) As Rating_Counts FROM global_temp.ratings_view where rating <=2\")\n",
        "result.show()\n"
      ]
    },
    {
      "cell_type": "markdown",
      "metadata": {
        "id": "F1Ev5iYP-i38"
      },
      "source": [
        "#### D) Filter the movies which have \"Adventure and Fantasy\" in Genres, display the count of \"Adventure and Fantasy\" Genres records and percentage of \"Adventure and Fantasy\" genres\n",
        "\n",
        "(Hint: file.like('%Adventure%'))"
      ]
    },
    {
      "cell_type": "code",
      "execution_count": 39,
      "metadata": {
        "id": "HfKH86xhAU7H",
        "colab": {
          "base_uri": "https://localhost:8080/"
        },
        "outputId": "fa96b635-52cd-45b8-a5ca-dbd173796008"
      },
      "outputs": [
        {
          "output_type": "stream",
          "name": "stdout",
          "text": [
            "+-------+--------------------+--------------------+\n",
            "|movieId|               title|              genres|\n",
            "+-------+--------------------+--------------------+\n",
            "|      1|    Toy Story (1995)|Adventure|Animati...|\n",
            "|      2|      Jumanji (1995)|Adventure|Childre...|\n",
            "|     29|City of Lost Chil...|Adventure|Drama|F...|\n",
            "|     44|Mortal Kombat (1995)|Action|Adventure|...|\n",
            "|     60|Indian in the Cup...|Adventure|Childre...|\n",
            "|    126|NeverEnding Story...|Adventure|Childre...|\n",
            "|    258|Kid in King Arthu...|Adventure|Childre...|\n",
            "|    393|Street Fighter (1...|Action|Adventure|...|\n",
            "|    485|Last Action Hero ...|Action|Adventure|...|\n",
            "|    533|  Shadow, The (1994)|Action|Adventure|...|\n",
            "|    546|Super Mario Bros....|Action|Adventure|...|\n",
            "|    558|Pagemaster, The (...|Action|Adventure|...|\n",
            "|    631|All Dogs Go to He...|Adventure|Animati...|\n",
            "|    653|  Dragonheart (1996)|Action|Adventure|...|\n",
            "|    661|James and the Gia...|Adventure|Animati...|\n",
            "|    673|    Space Jam (1996)|Adventure|Animati...|\n",
            "|    919|Wizard of Oz, The...|Adventure|Childre...|\n",
            "|   1009|Escape to Witch M...|Adventure|Childre...|\n",
            "|   1032|Alice in Wonderla...|Adventure|Animati...|\n",
            "|   1136|Monty Python and ...|Adventure|Comedy|...|\n",
            "+-------+--------------------+--------------------+\n",
            "only showing top 20 rows\n",
            "\n"
          ]
        }
      ],
      "source": [
        "##Type your code here\n",
        "from pyspark.sql.functions import col\n",
        "df = spark.read.csv(\"/content/BDDS_Ass2/movies-1.csv\", header=True, inferSchema=True)\n",
        "#df.show()\n",
        "\n",
        "movies = df.filter((col('genres').like('%Adventure%')) & (col('genres').like('%Fantasy%')))\n",
        "movies.show()\n",
        "\n",
        "#df.createOrReplaceGlobalTempView(\"movies_view\")\n",
        "#result = spark.sql(\"SELECT * FROM global_temp.movies_view WHERE genres LIKE '%Adventure%' AND genres LIKE '%Fantasy%' \")\n",
        "#result.show()\n",
        "#result.count()\n",
        "\n"
      ]
    },
    {
      "cell_type": "code",
      "source": [
        "count = movies.count()\n",
        "\n",
        "# Display the count\n",
        "print(\"Count of Adventure and Fantasy genres records:\", count)"
      ],
      "metadata": {
        "id": "-CAKgwKl-fLE",
        "outputId": "0abd94b0-1220-4c5c-d42e-cc6484ca2bce",
        "colab": {
          "base_uri": "https://localhost:8080/"
        }
      },
      "execution_count": 50,
      "outputs": [
        {
          "output_type": "stream",
          "name": "stdout",
          "text": [
            "Count of Adventure and Fantasy genres records: 334\n"
          ]
        }
      ]
    },
    {
      "cell_type": "code",
      "source": [
        "from pyspark.sql.functions import col\n",
        "df = spark.read.csv(\"/content/BDDS_Ass2/movies-1.csv\", header=True, inferSchema=True)\n",
        "#df.show()\n",
        "movie_total_count = df.count()\n",
        "movies_filtered = df.filter((col('genres').like('%Adventure%')) & (col('genres').like('%Fantasy%')))\n",
        "movies_filtered_count = movies_filtered.count()\n",
        "percentage = (movies_filtered_count / movie_total_count) * 100\n",
        "\n",
        "# Display the percentage\n",
        "print(\"Percentage of Adventure and Fantasy genres records:\", percentage)"
      ],
      "metadata": {
        "id": "azArkYmt-iQ_",
        "outputId": "f7237d97-8917-4f0c-d202-48fdc7348589",
        "colab": {
          "base_uri": "https://localhost:8080/"
        }
      },
      "execution_count": 53,
      "outputs": [
        {
          "output_type": "stream",
          "name": "stdout",
          "text": [
            "Percentage of Adventure and Fantasy genres records: 3.428454116197906\n"
          ]
        }
      ]
    },
    {
      "cell_type": "markdown",
      "metadata": {
        "id": "JmhdEeNb9t7z"
      },
      "source": [
        "### **Task 2: Spark Dataframes (30%)**"
      ]
    },
    {
      "cell_type": "markdown",
      "metadata": {
        "id": "_SBjAkIH1kaV"
      },
      "source": [
        "#### Implementation (30%)  "
      ]
    },
    {
      "cell_type": "markdown",
      "metadata": {
        "id": "88Ww3LBZ3Coh"
      },
      "source": [
        "#### A) Create the Globaltemp view for rating, show the records and Identify Users who have given the least ratings.\n",
        "\n",
        "(Hint: SELECT * FROM global_temp.view)"
      ]
    },
    {
      "cell_type": "code",
      "execution_count": 54,
      "metadata": {
        "id": "ohY-o7hg3eHr",
        "colab": {
          "base_uri": "https://localhost:8080/"
        },
        "outputId": "9d79ff29-035c-4231-f58b-87429b0c7590"
      },
      "outputs": [
        {
          "output_type": "stream",
          "name": "stdout",
          "text": [
            "+------+-------+------+\n",
            "|userId|movieId|rating|\n",
            "+------+-------+------+\n",
            "|     1|      1|   4.0|\n",
            "|     1|      3|   4.0|\n",
            "|     1|      6|   4.0|\n",
            "|     1|     47|   5.0|\n",
            "|     1|     50|   4.6|\n",
            "|     1|     70|   3.0|\n",
            "|     1|    101|   5.0|\n",
            "|     1|    110|   4.0|\n",
            "|     1|    151|   4.8|\n",
            "|     1|    157|   4.7|\n",
            "|     1|    163|   4.6|\n",
            "|     1|    216|   4.9|\n",
            "|     1|    223|   3.0|\n",
            "|     1|    231|   4.6|\n",
            "|     1|    235|   4.0|\n",
            "|     1|    260|   4.6|\n",
            "|     1|    296|   3.0|\n",
            "|     1|    316|   3.0|\n",
            "|     1|    333|   4.6|\n",
            "|     1|    349|   4.0|\n",
            "+------+-------+------+\n",
            "only showing top 20 rows\n",
            "\n"
          ]
        },
        {
          "output_type": "execute_result",
          "data": {
            "text/plain": [
              "100836"
            ]
          },
          "metadata": {},
          "execution_count": 54
        }
      ],
      "source": [
        "#Type your code here\n",
        "df = spark.read.csv(\"/content/BDDS_Ass2/ratings-1-1.csv\", header=True, inferSchema=True)\n",
        "df.createOrReplaceGlobalTempView(\"ratings_view\")\n",
        "result = spark.sql(\"SELECT * FROM global_temp.ratings_view\")\n",
        "result.show()\n",
        "result.count()\n"
      ]
    },
    {
      "cell_type": "code",
      "source": [
        "result1 = spark.sql(\"\"\"\n",
        "    SELECT userId, COUNT(*) as rating_count\n",
        "    FROM global_temp.ratings_view\n",
        "    GROUP BY userId\n",
        "    ORDER BY rating_count ASC\n",
        "    LIMIT 1\n",
        "\"\"\")\n",
        "result1.show()"
      ],
      "metadata": {
        "id": "BuaWo8l_EbTE",
        "outputId": "27eecdce-2173-42bb-cbdd-bd63ffe7df33",
        "colab": {
          "base_uri": "https://localhost:8080/"
        }
      },
      "execution_count": 62,
      "outputs": [
        {
          "output_type": "stream",
          "name": "stdout",
          "text": [
            "+------+------------+\n",
            "|userId|rating_count|\n",
            "+------+------------+\n",
            "|    53|          20|\n",
            "+------+------------+\n",
            "\n"
          ]
        }
      ]
    },
    {
      "cell_type": "markdown",
      "metadata": {
        "id": "5T3svSd_3bJ7"
      },
      "source": [
        "#### B) Create view by combining both tables and display records\n",
        "\n",
        "(Hint: SELECT * FROM Joined_movie_ratings_view)\n",
        "\n"
      ]
    },
    {
      "cell_type": "code",
      "execution_count": 63,
      "metadata": {
        "id": "jeeWSaZ03pvG",
        "colab": {
          "base_uri": "https://localhost:8080/"
        },
        "outputId": "4b3683fc-daea-4ca4-80d2-e5251969c47e"
      },
      "outputs": [
        {
          "output_type": "stream",
          "name": "stdout",
          "text": [
            "+-------+--------------------+--------------------+------+-------+------+\n",
            "|movieId|               title|              genres|userId|movieId|rating|\n",
            "+-------+--------------------+--------------------+------+-------+------+\n",
            "|      1|    Toy Story (1995)|Adventure|Animati...|     1|      1|   4.0|\n",
            "|      3|Grumpier Old Men ...|      Comedy|Romance|     1|      3|   4.0|\n",
            "|      6|         Heat (1995)|Action|Crime|Thri...|     1|      6|   4.0|\n",
            "|     47|Seven (a.k.a. Se7...|    Mystery|Thriller|     1|     47|   5.0|\n",
            "|     50|Usual Suspects, T...|Crime|Mystery|Thr...|     1|     50|   4.6|\n",
            "|     70|From Dusk Till Da...|Action|Comedy|Hor...|     1|     70|   3.0|\n",
            "|    101|Bottle Rocket (1996)|Adventure|Comedy|...|     1|    101|   5.0|\n",
            "|    110|   Braveheart (1995)|    Action|Drama|War|     1|    110|   4.0|\n",
            "|    151|      Rob Roy (1995)|Action|Drama|Roma...|     1|    151|   4.8|\n",
            "|    157|Canadian Bacon (1...|          Comedy|War|     1|    157|   4.7|\n",
            "|    163|    Desperado (1995)|Action|Romance|We...|     1|    163|   4.6|\n",
            "|    216|Billy Madison (1995)|              Comedy|     1|    216|   4.9|\n",
            "|    223|       Clerks (1994)|              Comedy|     1|    223|   3.0|\n",
            "|    231|Dumb & Dumber (Du...|    Adventure|Comedy|     1|    231|   4.6|\n",
            "|    235|      Ed Wood (1994)|        Comedy|Drama|     1|    235|   4.0|\n",
            "|    260|Star Wars: Episod...|Action|Adventure|...|     1|    260|   4.6|\n",
            "|    296| Pulp Fiction (1994)|Comedy|Crime|Dram...|     1|    296|   3.0|\n",
            "|    316|     Stargate (1994)|Action|Adventure|...|     1|    316|   3.0|\n",
            "|    333|    Tommy Boy (1995)|              Comedy|     1|    333|   4.6|\n",
            "|    349|Clear and Present...|Action|Crime|Dram...|     1|    349|   4.0|\n",
            "+-------+--------------------+--------------------+------+-------+------+\n",
            "only showing top 20 rows\n",
            "\n"
          ]
        }
      ],
      "source": [
        "#Type your code here\n",
        "df1 = spark.read.csv(\"/content/BDDS_Ass2/movies-1.csv\", header=True, inferSchema=True)\n",
        "df2 = spark.read.csv(\"/content/BDDS_Ass2/ratings-1-1.csv\", header=True, inferSchema=True)\n",
        "df1.createOrReplaceGlobalTempView(\"movies_view\")\n",
        "df2.createOrReplaceGlobalTempView(\"ratings_view\")\n",
        "\n",
        "# Execute SQL query to join the views\n",
        "joined_df = spark.sql(\"\"\"\n",
        "    SELECT *\n",
        "    FROM global_temp.movies_view t1\n",
        "    JOIN global_temp.ratings_view t2 ON t1.movieId = t2.movieId\n",
        "\"\"\")\n",
        "joined_df.show()\n"
      ]
    },
    {
      "cell_type": "markdown",
      "metadata": {
        "id": "KtLtL4P73kPo"
      },
      "source": [
        "#### C) Retrieve the genres of movies along with the highest and lowest rating for each genre from the above view\n",
        "(Hint: SELECT Genres, ratings from Joined_movie_ratings_view)"
      ]
    },
    {
      "cell_type": "code",
      "execution_count": 68,
      "metadata": {
        "id": "vxn8Je2-3xFP",
        "colab": {
          "base_uri": "https://localhost:8080/",
          "height": 650
        },
        "outputId": "56f675b6-0876-4df7-bc0d-bdac7e97a92d"
      },
      "outputs": [
        {
          "output_type": "error",
          "ename": "AnalysisException",
          "evalue": "[UNRESOLVED_COLUMN.WITH_SUGGESTION] A column or function parameter with name `rating` cannot be resolved. Did you mean one of the following? [`title`, `genres`, `movieId`].; line 5 pos 54;\n'WithCTE\n:- 'CTERelationDef 4, false\n:  +- 'SubqueryAlias movie_ratings\n:     +- 'Project [movieId#1629, title#1630, genres#1631, rank() windowspecdefinition(genres#1631, 'rating DESC NULLS LAST, specifiedwindowframe(RowFrame, unboundedpreceding$(), currentrow$())) AS highest_rank#1739, rank() windowspecdefinition(genres#1631, 'rating ASC NULLS FIRST, specifiedwindowframe(RowFrame, unboundedpreceding$(), currentrow$())) AS lowest_rank#1740]\n:        +- SubqueryAlias global_temp.movies_view\n:           +- View (`global_temp`.`movies_view`, [movieId#1629,title#1630,genres#1631])\n:              +- Relation [movieId#1629,title#1630,genres#1631] csv\n+- 'Aggregate ['genres], ['genres, 'MAX(CASE WHEN ('highest_rank = 1) THEN 'title END) AS highest_rated_movie#1735, 'MAX(CASE WHEN ('highest_rank = 1) THEN 'rating END) AS highest_rating#1736, 'MAX(CASE WHEN ('lowest_rank = 1) THEN 'title END) AS lowest_rated_movie#1737, 'MAX(CASE WHEN ('lowest_rank = 1) THEN 'rating END) AS lowest_rating#1738]\n   +- 'SubqueryAlias movie_ratings\n      +- 'CTERelationRef 4, false, false\n",
          "traceback": [
            "\u001b[0;31m---------------------------------------------------------------------------\u001b[0m",
            "\u001b[0;31mAnalysisException\u001b[0m                         Traceback (most recent call last)",
            "\u001b[0;32m<ipython-input-68-d644d61dd08b>\u001b[0m in \u001b[0;36m<cell line: 2>\u001b[0;34m()\u001b[0m\n\u001b[1;32m      1\u001b[0m \u001b[0;31m#Type your code here\u001b[0m\u001b[0;34m\u001b[0m\u001b[0;34m\u001b[0m\u001b[0m\n\u001b[0;32m----> 2\u001b[0;31m Result = spark.sql(\"\"\"\n\u001b[0m\u001b[1;32m      3\u001b[0m     WITH movie_ratings AS (\n\u001b[1;32m      4\u001b[0m         \u001b[0mSELECT\u001b[0m\u001b[0;34m\u001b[0m\u001b[0;34m\u001b[0m\u001b[0m\n\u001b[1;32m      5\u001b[0m             \u001b[0;34m*\u001b[0m\u001b[0;34m,\u001b[0m\u001b[0;34m\u001b[0m\u001b[0;34m\u001b[0m\u001b[0m\n",
            "\u001b[0;32m/usr/local/lib/python3.10/dist-packages/pyspark/sql/session.py\u001b[0m in \u001b[0;36msql\u001b[0;34m(self, sqlQuery, args, **kwargs)\u001b[0m\n\u001b[1;32m   1629\u001b[0m                     \u001b[0;34m[\u001b[0m\u001b[0m_to_java_column\u001b[0m\u001b[0;34m(\u001b[0m\u001b[0mlit\u001b[0m\u001b[0;34m(\u001b[0m\u001b[0mv\u001b[0m\u001b[0;34m)\u001b[0m\u001b[0;34m)\u001b[0m \u001b[0;32mfor\u001b[0m \u001b[0mv\u001b[0m \u001b[0;32min\u001b[0m \u001b[0;34m(\u001b[0m\u001b[0margs\u001b[0m \u001b[0;32mor\u001b[0m \u001b[0;34m[\u001b[0m\u001b[0;34m]\u001b[0m\u001b[0;34m)\u001b[0m\u001b[0;34m]\u001b[0m\u001b[0;34m\u001b[0m\u001b[0;34m\u001b[0m\u001b[0m\n\u001b[1;32m   1630\u001b[0m                 )\n\u001b[0;32m-> 1631\u001b[0;31m             \u001b[0;32mreturn\u001b[0m \u001b[0mDataFrame\u001b[0m\u001b[0;34m(\u001b[0m\u001b[0mself\u001b[0m\u001b[0;34m.\u001b[0m\u001b[0m_jsparkSession\u001b[0m\u001b[0;34m.\u001b[0m\u001b[0msql\u001b[0m\u001b[0;34m(\u001b[0m\u001b[0msqlQuery\u001b[0m\u001b[0;34m,\u001b[0m \u001b[0mlitArgs\u001b[0m\u001b[0;34m)\u001b[0m\u001b[0;34m,\u001b[0m \u001b[0mself\u001b[0m\u001b[0;34m)\u001b[0m\u001b[0;34m\u001b[0m\u001b[0;34m\u001b[0m\u001b[0m\n\u001b[0m\u001b[1;32m   1632\u001b[0m         \u001b[0;32mfinally\u001b[0m\u001b[0;34m:\u001b[0m\u001b[0;34m\u001b[0m\u001b[0;34m\u001b[0m\u001b[0m\n\u001b[1;32m   1633\u001b[0m             \u001b[0;32mif\u001b[0m \u001b[0mlen\u001b[0m\u001b[0;34m(\u001b[0m\u001b[0mkwargs\u001b[0m\u001b[0;34m)\u001b[0m \u001b[0;34m>\u001b[0m \u001b[0;36m0\u001b[0m\u001b[0;34m:\u001b[0m\u001b[0;34m\u001b[0m\u001b[0;34m\u001b[0m\u001b[0m\n",
            "\u001b[0;32m/usr/local/lib/python3.10/dist-packages/py4j/java_gateway.py\u001b[0m in \u001b[0;36m__call__\u001b[0;34m(self, *args)\u001b[0m\n\u001b[1;32m   1320\u001b[0m \u001b[0;34m\u001b[0m\u001b[0m\n\u001b[1;32m   1321\u001b[0m         \u001b[0manswer\u001b[0m \u001b[0;34m=\u001b[0m \u001b[0mself\u001b[0m\u001b[0;34m.\u001b[0m\u001b[0mgateway_client\u001b[0m\u001b[0;34m.\u001b[0m\u001b[0msend_command\u001b[0m\u001b[0;34m(\u001b[0m\u001b[0mcommand\u001b[0m\u001b[0;34m)\u001b[0m\u001b[0;34m\u001b[0m\u001b[0;34m\u001b[0m\u001b[0m\n\u001b[0;32m-> 1322\u001b[0;31m         return_value = get_return_value(\n\u001b[0m\u001b[1;32m   1323\u001b[0m             answer, self.gateway_client, self.target_id, self.name)\n\u001b[1;32m   1324\u001b[0m \u001b[0;34m\u001b[0m\u001b[0m\n",
            "\u001b[0;32m/usr/local/lib/python3.10/dist-packages/pyspark/errors/exceptions/captured.py\u001b[0m in \u001b[0;36mdeco\u001b[0;34m(*a, **kw)\u001b[0m\n\u001b[1;32m    183\u001b[0m                 \u001b[0;31m# Hide where the exception came from that shows a non-Pythonic\u001b[0m\u001b[0;34m\u001b[0m\u001b[0;34m\u001b[0m\u001b[0m\n\u001b[1;32m    184\u001b[0m                 \u001b[0;31m# JVM exception message.\u001b[0m\u001b[0;34m\u001b[0m\u001b[0;34m\u001b[0m\u001b[0m\n\u001b[0;32m--> 185\u001b[0;31m                 \u001b[0;32mraise\u001b[0m \u001b[0mconverted\u001b[0m \u001b[0;32mfrom\u001b[0m \u001b[0;32mNone\u001b[0m\u001b[0;34m\u001b[0m\u001b[0;34m\u001b[0m\u001b[0m\n\u001b[0m\u001b[1;32m    186\u001b[0m             \u001b[0;32melse\u001b[0m\u001b[0;34m:\u001b[0m\u001b[0;34m\u001b[0m\u001b[0;34m\u001b[0m\u001b[0m\n\u001b[1;32m    187\u001b[0m                 \u001b[0;32mraise\u001b[0m\u001b[0;34m\u001b[0m\u001b[0;34m\u001b[0m\u001b[0m\n",
            "\u001b[0;31mAnalysisException\u001b[0m: [UNRESOLVED_COLUMN.WITH_SUGGESTION] A column or function parameter with name `rating` cannot be resolved. Did you mean one of the following? [`title`, `genres`, `movieId`].; line 5 pos 54;\n'WithCTE\n:- 'CTERelationDef 4, false\n:  +- 'SubqueryAlias movie_ratings\n:     +- 'Project [movieId#1629, title#1630, genres#1631, rank() windowspecdefinition(genres#1631, 'rating DESC NULLS LAST, specifiedwindowframe(RowFrame, unboundedpreceding$(), currentrow$())) AS highest_rank#1739, rank() windowspecdefinition(genres#1631, 'rating ASC NULLS FIRST, specifiedwindowframe(RowFrame, unboundedpreceding$(), currentrow$())) AS lowest_rank#1740]\n:        +- SubqueryAlias global_temp.movies_view\n:           +- View (`global_temp`.`movies_view`, [movieId#1629,title#1630,genres#1631])\n:              +- Relation [movieId#1629,title#1630,genres#1631] csv\n+- 'Aggregate ['genres], ['genres, 'MAX(CASE WHEN ('highest_rank = 1) THEN 'title END) AS highest_rated_movie#1735, 'MAX(CASE WHEN ('highest_rank = 1) THEN 'rating END) AS highest_rating#1736, 'MAX(CASE WHEN ('lowest_rank = 1) THEN 'title END) AS lowest_rated_movie#1737, 'MAX(CASE WHEN ('lowest_rank = 1) THEN 'rating END) AS lowest_rating#1738]\n   +- 'SubqueryAlias movie_ratings\n      +- 'CTERelationRef 4, false, false\n"
          ]
        }
      ],
      "source": [
        "#Type your code here\n",
        "Result = spark.sql(\"\"\"\n",
        "    WITH movie_ratings AS (\n",
        "        SELECT\n",
        "            *,\n",
        "            RANK() OVER (PARTITION BY genres ORDER BY rating DESC) AS highest_rank,\n",
        "            RANK() OVER (PARTITION BY genres ORDER BY rating ASC) AS lowest_rank\n",
        "        FROM\n",
        "            global_temp.movies_view\n",
        "    )\n",
        "    SELECT\n",
        "        genres,\n",
        "        MAX(CASE WHEN highest_rank = 1 THEN title END) AS highest_rated_movie,\n",
        "        MAX(CASE WHEN highest_rank = 1 THEN rating END) AS highest_rating,\n",
        "        MAX(CASE WHEN lowest_rank = 1 THEN title END) AS lowest_rated_movie,\n",
        "        MAX(CASE WHEN lowest_rank = 1 THEN rating END) AS lowest_rating\n",
        "    FROM\n",
        "        movie_ratings\n",
        "    GROUP BY\n",
        "        genres\n",
        "\"\"\")\n"
      ]
    },
    {
      "cell_type": "markdown",
      "metadata": {
        "id": "YnmxNkkblUdI"
      },
      "source": [
        "### **Task 3: Machine Learning (30%)**"
      ]
    },
    {
      "cell_type": "markdown",
      "metadata": {
        "id": "To84BZJflZz0"
      },
      "source": [
        "Note: Import the necessary libraries such as pandas as per your requirement"
      ]
    },
    {
      "cell_type": "markdown",
      "metadata": {
        "id": "UCJPPSwBlc-n"
      },
      "source": [
        "#### Question Descriptive"
      ]
    },
    {
      "cell_type": "markdown",
      "metadata": {
        "id": "DZ8ZauvXlj_g"
      },
      "source": [
        "#### A) Explain in detail about any one algorithm (such as Naive Bayes/ Decision Tree, etc) highlighting the pros and cons. (10%)\n",
        "\n",
        "##### Min. 200 words"
      ]
    },
    {
      "cell_type": "markdown",
      "metadata": {
        "id": "yfdTCFWll5vx"
      },
      "source": [
        "Answer Here:"
      ]
    },
    {
      "cell_type": "markdown",
      "metadata": {
        "id": "nNG50901maXr"
      },
      "source": [
        "#### Question Implementation (20%)"
      ]
    },
    {
      "cell_type": "code",
      "source": [
        "from google.colab import drive\n",
        "drive.mount('/content/drive')"
      ],
      "metadata": {
        "colab": {
          "base_uri": "https://localhost:8080/"
        },
        "id": "ZWVbovYFdz6i",
        "outputId": "fff897d5-4338-40e1-f9ba-b7f4fa884131"
      },
      "execution_count": null,
      "outputs": [
        {
          "output_type": "stream",
          "name": "stdout",
          "text": [
            "Drive already mounted at /content/drive; to attempt to forcibly remount, call drive.mount(\"/content/drive\", force_remount=True).\n"
          ]
        }
      ]
    },
    {
      "cell_type": "code",
      "source": [
        "#importing pandas\n",
        "import pandas as pd\n",
        "\n",
        "#file path location give Your path\n",
        "file_loc = '/content/drive/My Drive/Colab Notebooks/Spam.csv'\n",
        "df = pd.read_csv(file_loc)\n",
        "\n",
        "#printing first 10 lines\n",
        "df.head(10)"
      ],
      "metadata": {
        "colab": {
          "base_uri": "https://localhost:8080/",
          "height": 412
        },
        "id": "DzcdMD_IeLCB",
        "outputId": "c3c51eee-73a6-400d-af79-cc9bf52f9802"
      },
      "execution_count": null,
      "outputs": [
        {
          "output_type": "execute_result",
          "data": {
            "text/plain": [
              "   word_freq_make  word_freq_address  word_freq_all  word_freq_3d  \\\n",
              "0            0.00               0.64           0.64           0.0   \n",
              "1            0.21               0.28           0.50           0.0   \n",
              "2            0.06               0.00           0.71           0.0   \n",
              "3            0.00               0.00           0.00           0.0   \n",
              "4            0.00               0.00           0.00           0.0   \n",
              "5            0.00               0.00           0.00           0.0   \n",
              "6            0.00               0.00           0.00           0.0   \n",
              "7            0.00               0.00           0.00           0.0   \n",
              "8            0.15               0.00           0.46           0.0   \n",
              "9            0.06               0.12           0.77           0.0   \n",
              "\n",
              "   word_freq_our  word_freq_over  word_freq_remove  word_freq_internet  \\\n",
              "0           0.32            0.00              0.00                0.00   \n",
              "1           0.14            0.28              0.21                0.07   \n",
              "2           1.23            0.19              0.19                0.12   \n",
              "3           0.63            0.00              0.31                0.63   \n",
              "4           0.63            0.00              0.31                0.63   \n",
              "5           1.85            0.00              0.00                1.85   \n",
              "6           1.92            0.00              0.00                0.00   \n",
              "7           1.88            0.00              0.00                1.88   \n",
              "8           0.61            0.00              0.30                0.00   \n",
              "9           0.19            0.32              0.38                0.00   \n",
              "\n",
              "   word_freq_order  word_freq_mail  ...  char_freq_;  char_freq_(  \\\n",
              "0             0.00            0.00  ...         0.00        0.000   \n",
              "1             0.00            0.94  ...         0.00        0.132   \n",
              "2             0.64            0.25  ...         0.01        0.143   \n",
              "3             0.31            0.63  ...         0.00        0.137   \n",
              "4             0.31            0.63  ...         0.00        0.135   \n",
              "5             0.00            0.00  ...         0.00        0.223   \n",
              "6             0.00            0.64  ...         0.00        0.054   \n",
              "7             0.00            0.00  ...         0.00        0.206   \n",
              "8             0.92            0.76  ...         0.00        0.271   \n",
              "9             0.06            0.00  ...         0.04        0.030   \n",
              "\n",
              "   char_freq_[  char_freq_!  char_freq_$  char_freq_hash  \\\n",
              "0          0.0        0.778        0.000           0.000   \n",
              "1          0.0        0.372        0.180           0.048   \n",
              "2          0.0        0.276        0.184           0.010   \n",
              "3          0.0        0.137        0.000           0.000   \n",
              "4          0.0        0.135        0.000           0.000   \n",
              "5          0.0        0.000        0.000           0.000   \n",
              "6          0.0        0.164        0.054           0.000   \n",
              "7          0.0        0.000        0.000           0.000   \n",
              "8          0.0        0.181        0.203           0.022   \n",
              "9          0.0        0.244        0.081           0.000   \n",
              "\n",
              "   capital_run_length_average  capital_run_length_longest  \\\n",
              "0                       3.756                          61   \n",
              "1                       5.114                         101   \n",
              "2                       9.821                         485   \n",
              "3                       3.537                          40   \n",
              "4                       3.537                          40   \n",
              "5                       3.000                          15   \n",
              "6                       1.671                           4   \n",
              "7                       2.450                          11   \n",
              "8                       9.744                         445   \n",
              "9                       1.729                          43   \n",
              "\n",
              "   capital_run_length_total  spam  \n",
              "0                       278     1  \n",
              "1                      1028     1  \n",
              "2                      2259     1  \n",
              "3                       191     1  \n",
              "4                       191     1  \n",
              "5                        54     1  \n",
              "6                       112     1  \n",
              "7                        49     1  \n",
              "8                      1257     1  \n",
              "9                       749     1  \n",
              "\n",
              "[10 rows x 58 columns]"
            ],
            "text/html": [
              "\n",
              "  <div id=\"df-02c6b664-f760-4311-b596-ef514f90a856\" class=\"colab-df-container\">\n",
              "    <div>\n",
              "<style scoped>\n",
              "    .dataframe tbody tr th:only-of-type {\n",
              "        vertical-align: middle;\n",
              "    }\n",
              "\n",
              "    .dataframe tbody tr th {\n",
              "        vertical-align: top;\n",
              "    }\n",
              "\n",
              "    .dataframe thead th {\n",
              "        text-align: right;\n",
              "    }\n",
              "</style>\n",
              "<table border=\"1\" class=\"dataframe\">\n",
              "  <thead>\n",
              "    <tr style=\"text-align: right;\">\n",
              "      <th></th>\n",
              "      <th>word_freq_make</th>\n",
              "      <th>word_freq_address</th>\n",
              "      <th>word_freq_all</th>\n",
              "      <th>word_freq_3d</th>\n",
              "      <th>word_freq_our</th>\n",
              "      <th>word_freq_over</th>\n",
              "      <th>word_freq_remove</th>\n",
              "      <th>word_freq_internet</th>\n",
              "      <th>word_freq_order</th>\n",
              "      <th>word_freq_mail</th>\n",
              "      <th>...</th>\n",
              "      <th>char_freq_;</th>\n",
              "      <th>char_freq_(</th>\n",
              "      <th>char_freq_[</th>\n",
              "      <th>char_freq_!</th>\n",
              "      <th>char_freq_$</th>\n",
              "      <th>char_freq_hash</th>\n",
              "      <th>capital_run_length_average</th>\n",
              "      <th>capital_run_length_longest</th>\n",
              "      <th>capital_run_length_total</th>\n",
              "      <th>spam</th>\n",
              "    </tr>\n",
              "  </thead>\n",
              "  <tbody>\n",
              "    <tr>\n",
              "      <th>0</th>\n",
              "      <td>0.00</td>\n",
              "      <td>0.64</td>\n",
              "      <td>0.64</td>\n",
              "      <td>0.0</td>\n",
              "      <td>0.32</td>\n",
              "      <td>0.00</td>\n",
              "      <td>0.00</td>\n",
              "      <td>0.00</td>\n",
              "      <td>0.00</td>\n",
              "      <td>0.00</td>\n",
              "      <td>...</td>\n",
              "      <td>0.00</td>\n",
              "      <td>0.000</td>\n",
              "      <td>0.0</td>\n",
              "      <td>0.778</td>\n",
              "      <td>0.000</td>\n",
              "      <td>0.000</td>\n",
              "      <td>3.756</td>\n",
              "      <td>61</td>\n",
              "      <td>278</td>\n",
              "      <td>1</td>\n",
              "    </tr>\n",
              "    <tr>\n",
              "      <th>1</th>\n",
              "      <td>0.21</td>\n",
              "      <td>0.28</td>\n",
              "      <td>0.50</td>\n",
              "      <td>0.0</td>\n",
              "      <td>0.14</td>\n",
              "      <td>0.28</td>\n",
              "      <td>0.21</td>\n",
              "      <td>0.07</td>\n",
              "      <td>0.00</td>\n",
              "      <td>0.94</td>\n",
              "      <td>...</td>\n",
              "      <td>0.00</td>\n",
              "      <td>0.132</td>\n",
              "      <td>0.0</td>\n",
              "      <td>0.372</td>\n",
              "      <td>0.180</td>\n",
              "      <td>0.048</td>\n",
              "      <td>5.114</td>\n",
              "      <td>101</td>\n",
              "      <td>1028</td>\n",
              "      <td>1</td>\n",
              "    </tr>\n",
              "    <tr>\n",
              "      <th>2</th>\n",
              "      <td>0.06</td>\n",
              "      <td>0.00</td>\n",
              "      <td>0.71</td>\n",
              "      <td>0.0</td>\n",
              "      <td>1.23</td>\n",
              "      <td>0.19</td>\n",
              "      <td>0.19</td>\n",
              "      <td>0.12</td>\n",
              "      <td>0.64</td>\n",
              "      <td>0.25</td>\n",
              "      <td>...</td>\n",
              "      <td>0.01</td>\n",
              "      <td>0.143</td>\n",
              "      <td>0.0</td>\n",
              "      <td>0.276</td>\n",
              "      <td>0.184</td>\n",
              "      <td>0.010</td>\n",
              "      <td>9.821</td>\n",
              "      <td>485</td>\n",
              "      <td>2259</td>\n",
              "      <td>1</td>\n",
              "    </tr>\n",
              "    <tr>\n",
              "      <th>3</th>\n",
              "      <td>0.00</td>\n",
              "      <td>0.00</td>\n",
              "      <td>0.00</td>\n",
              "      <td>0.0</td>\n",
              "      <td>0.63</td>\n",
              "      <td>0.00</td>\n",
              "      <td>0.31</td>\n",
              "      <td>0.63</td>\n",
              "      <td>0.31</td>\n",
              "      <td>0.63</td>\n",
              "      <td>...</td>\n",
              "      <td>0.00</td>\n",
              "      <td>0.137</td>\n",
              "      <td>0.0</td>\n",
              "      <td>0.137</td>\n",
              "      <td>0.000</td>\n",
              "      <td>0.000</td>\n",
              "      <td>3.537</td>\n",
              "      <td>40</td>\n",
              "      <td>191</td>\n",
              "      <td>1</td>\n",
              "    </tr>\n",
              "    <tr>\n",
              "      <th>4</th>\n",
              "      <td>0.00</td>\n",
              "      <td>0.00</td>\n",
              "      <td>0.00</td>\n",
              "      <td>0.0</td>\n",
              "      <td>0.63</td>\n",
              "      <td>0.00</td>\n",
              "      <td>0.31</td>\n",
              "      <td>0.63</td>\n",
              "      <td>0.31</td>\n",
              "      <td>0.63</td>\n",
              "      <td>...</td>\n",
              "      <td>0.00</td>\n",
              "      <td>0.135</td>\n",
              "      <td>0.0</td>\n",
              "      <td>0.135</td>\n",
              "      <td>0.000</td>\n",
              "      <td>0.000</td>\n",
              "      <td>3.537</td>\n",
              "      <td>40</td>\n",
              "      <td>191</td>\n",
              "      <td>1</td>\n",
              "    </tr>\n",
              "    <tr>\n",
              "      <th>5</th>\n",
              "      <td>0.00</td>\n",
              "      <td>0.00</td>\n",
              "      <td>0.00</td>\n",
              "      <td>0.0</td>\n",
              "      <td>1.85</td>\n",
              "      <td>0.00</td>\n",
              "      <td>0.00</td>\n",
              "      <td>1.85</td>\n",
              "      <td>0.00</td>\n",
              "      <td>0.00</td>\n",
              "      <td>...</td>\n",
              "      <td>0.00</td>\n",
              "      <td>0.223</td>\n",
              "      <td>0.0</td>\n",
              "      <td>0.000</td>\n",
              "      <td>0.000</td>\n",
              "      <td>0.000</td>\n",
              "      <td>3.000</td>\n",
              "      <td>15</td>\n",
              "      <td>54</td>\n",
              "      <td>1</td>\n",
              "    </tr>\n",
              "    <tr>\n",
              "      <th>6</th>\n",
              "      <td>0.00</td>\n",
              "      <td>0.00</td>\n",
              "      <td>0.00</td>\n",
              "      <td>0.0</td>\n",
              "      <td>1.92</td>\n",
              "      <td>0.00</td>\n",
              "      <td>0.00</td>\n",
              "      <td>0.00</td>\n",
              "      <td>0.00</td>\n",
              "      <td>0.64</td>\n",
              "      <td>...</td>\n",
              "      <td>0.00</td>\n",
              "      <td>0.054</td>\n",
              "      <td>0.0</td>\n",
              "      <td>0.164</td>\n",
              "      <td>0.054</td>\n",
              "      <td>0.000</td>\n",
              "      <td>1.671</td>\n",
              "      <td>4</td>\n",
              "      <td>112</td>\n",
              "      <td>1</td>\n",
              "    </tr>\n",
              "    <tr>\n",
              "      <th>7</th>\n",
              "      <td>0.00</td>\n",
              "      <td>0.00</td>\n",
              "      <td>0.00</td>\n",
              "      <td>0.0</td>\n",
              "      <td>1.88</td>\n",
              "      <td>0.00</td>\n",
              "      <td>0.00</td>\n",
              "      <td>1.88</td>\n",
              "      <td>0.00</td>\n",
              "      <td>0.00</td>\n",
              "      <td>...</td>\n",
              "      <td>0.00</td>\n",
              "      <td>0.206</td>\n",
              "      <td>0.0</td>\n",
              "      <td>0.000</td>\n",
              "      <td>0.000</td>\n",
              "      <td>0.000</td>\n",
              "      <td>2.450</td>\n",
              "      <td>11</td>\n",
              "      <td>49</td>\n",
              "      <td>1</td>\n",
              "    </tr>\n",
              "    <tr>\n",
              "      <th>8</th>\n",
              "      <td>0.15</td>\n",
              "      <td>0.00</td>\n",
              "      <td>0.46</td>\n",
              "      <td>0.0</td>\n",
              "      <td>0.61</td>\n",
              "      <td>0.00</td>\n",
              "      <td>0.30</td>\n",
              "      <td>0.00</td>\n",
              "      <td>0.92</td>\n",
              "      <td>0.76</td>\n",
              "      <td>...</td>\n",
              "      <td>0.00</td>\n",
              "      <td>0.271</td>\n",
              "      <td>0.0</td>\n",
              "      <td>0.181</td>\n",
              "      <td>0.203</td>\n",
              "      <td>0.022</td>\n",
              "      <td>9.744</td>\n",
              "      <td>445</td>\n",
              "      <td>1257</td>\n",
              "      <td>1</td>\n",
              "    </tr>\n",
              "    <tr>\n",
              "      <th>9</th>\n",
              "      <td>0.06</td>\n",
              "      <td>0.12</td>\n",
              "      <td>0.77</td>\n",
              "      <td>0.0</td>\n",
              "      <td>0.19</td>\n",
              "      <td>0.32</td>\n",
              "      <td>0.38</td>\n",
              "      <td>0.00</td>\n",
              "      <td>0.06</td>\n",
              "      <td>0.00</td>\n",
              "      <td>...</td>\n",
              "      <td>0.04</td>\n",
              "      <td>0.030</td>\n",
              "      <td>0.0</td>\n",
              "      <td>0.244</td>\n",
              "      <td>0.081</td>\n",
              "      <td>0.000</td>\n",
              "      <td>1.729</td>\n",
              "      <td>43</td>\n",
              "      <td>749</td>\n",
              "      <td>1</td>\n",
              "    </tr>\n",
              "  </tbody>\n",
              "</table>\n",
              "<p>10 rows × 58 columns</p>\n",
              "</div>\n",
              "    <div class=\"colab-df-buttons\">\n",
              "\n",
              "  <div class=\"colab-df-container\">\n",
              "    <button class=\"colab-df-convert\" onclick=\"convertToInteractive('df-02c6b664-f760-4311-b596-ef514f90a856')\"\n",
              "            title=\"Convert this dataframe to an interactive table.\"\n",
              "            style=\"display:none;\">\n",
              "\n",
              "  <svg xmlns=\"http://www.w3.org/2000/svg\" height=\"24px\" viewBox=\"0 -960 960 960\">\n",
              "    <path d=\"M120-120v-720h720v720H120Zm60-500h600v-160H180v160Zm220 220h160v-160H400v160Zm0 220h160v-160H400v160ZM180-400h160v-160H180v160Zm440 0h160v-160H620v160ZM180-180h160v-160H180v160Zm440 0h160v-160H620v160Z\"/>\n",
              "  </svg>\n",
              "    </button>\n",
              "\n",
              "  <style>\n",
              "    .colab-df-container {\n",
              "      display:flex;\n",
              "      gap: 12px;\n",
              "    }\n",
              "\n",
              "    .colab-df-convert {\n",
              "      background-color: #E8F0FE;\n",
              "      border: none;\n",
              "      border-radius: 50%;\n",
              "      cursor: pointer;\n",
              "      display: none;\n",
              "      fill: #1967D2;\n",
              "      height: 32px;\n",
              "      padding: 0 0 0 0;\n",
              "      width: 32px;\n",
              "    }\n",
              "\n",
              "    .colab-df-convert:hover {\n",
              "      background-color: #E2EBFA;\n",
              "      box-shadow: 0px 1px 2px rgba(60, 64, 67, 0.3), 0px 1px 3px 1px rgba(60, 64, 67, 0.15);\n",
              "      fill: #174EA6;\n",
              "    }\n",
              "\n",
              "    .colab-df-buttons div {\n",
              "      margin-bottom: 4px;\n",
              "    }\n",
              "\n",
              "    [theme=dark] .colab-df-convert {\n",
              "      background-color: #3B4455;\n",
              "      fill: #D2E3FC;\n",
              "    }\n",
              "\n",
              "    [theme=dark] .colab-df-convert:hover {\n",
              "      background-color: #434B5C;\n",
              "      box-shadow: 0px 1px 3px 1px rgba(0, 0, 0, 0.15);\n",
              "      filter: drop-shadow(0px 1px 2px rgba(0, 0, 0, 0.3));\n",
              "      fill: #FFFFFF;\n",
              "    }\n",
              "  </style>\n",
              "\n",
              "    <script>\n",
              "      const buttonEl =\n",
              "        document.querySelector('#df-02c6b664-f760-4311-b596-ef514f90a856 button.colab-df-convert');\n",
              "      buttonEl.style.display =\n",
              "        google.colab.kernel.accessAllowed ? 'block' : 'none';\n",
              "\n",
              "      async function convertToInteractive(key) {\n",
              "        const element = document.querySelector('#df-02c6b664-f760-4311-b596-ef514f90a856');\n",
              "        const dataTable =\n",
              "          await google.colab.kernel.invokeFunction('convertToInteractive',\n",
              "                                                    [key], {});\n",
              "        if (!dataTable) return;\n",
              "\n",
              "        const docLinkHtml = 'Like what you see? Visit the ' +\n",
              "          '<a target=\"_blank\" href=https://colab.research.google.com/notebooks/data_table.ipynb>data table notebook</a>'\n",
              "          + ' to learn more about interactive tables.';\n",
              "        element.innerHTML = '';\n",
              "        dataTable['output_type'] = 'display_data';\n",
              "        await google.colab.output.renderOutput(dataTable, element);\n",
              "        const docLink = document.createElement('div');\n",
              "        docLink.innerHTML = docLinkHtml;\n",
              "        element.appendChild(docLink);\n",
              "      }\n",
              "    </script>\n",
              "  </div>\n",
              "\n",
              "\n",
              "<div id=\"df-f84094c0-c112-4933-a84c-33d394e4f015\">\n",
              "  <button class=\"colab-df-quickchart\" onclick=\"quickchart('df-f84094c0-c112-4933-a84c-33d394e4f015')\"\n",
              "            title=\"Suggest charts\"\n",
              "            style=\"display:none;\">\n",
              "\n",
              "<svg xmlns=\"http://www.w3.org/2000/svg\" height=\"24px\"viewBox=\"0 0 24 24\"\n",
              "     width=\"24px\">\n",
              "    <g>\n",
              "        <path d=\"M19 3H5c-1.1 0-2 .9-2 2v14c0 1.1.9 2 2 2h14c1.1 0 2-.9 2-2V5c0-1.1-.9-2-2-2zM9 17H7v-7h2v7zm4 0h-2V7h2v10zm4 0h-2v-4h2v4z\"/>\n",
              "    </g>\n",
              "</svg>\n",
              "  </button>\n",
              "\n",
              "<style>\n",
              "  .colab-df-quickchart {\n",
              "      --bg-color: #E8F0FE;\n",
              "      --fill-color: #1967D2;\n",
              "      --hover-bg-color: #E2EBFA;\n",
              "      --hover-fill-color: #174EA6;\n",
              "      --disabled-fill-color: #AAA;\n",
              "      --disabled-bg-color: #DDD;\n",
              "  }\n",
              "\n",
              "  [theme=dark] .colab-df-quickchart {\n",
              "      --bg-color: #3B4455;\n",
              "      --fill-color: #D2E3FC;\n",
              "      --hover-bg-color: #434B5C;\n",
              "      --hover-fill-color: #FFFFFF;\n",
              "      --disabled-bg-color: #3B4455;\n",
              "      --disabled-fill-color: #666;\n",
              "  }\n",
              "\n",
              "  .colab-df-quickchart {\n",
              "    background-color: var(--bg-color);\n",
              "    border: none;\n",
              "    border-radius: 50%;\n",
              "    cursor: pointer;\n",
              "    display: none;\n",
              "    fill: var(--fill-color);\n",
              "    height: 32px;\n",
              "    padding: 0;\n",
              "    width: 32px;\n",
              "  }\n",
              "\n",
              "  .colab-df-quickchart:hover {\n",
              "    background-color: var(--hover-bg-color);\n",
              "    box-shadow: 0 1px 2px rgba(60, 64, 67, 0.3), 0 1px 3px 1px rgba(60, 64, 67, 0.15);\n",
              "    fill: var(--button-hover-fill-color);\n",
              "  }\n",
              "\n",
              "  .colab-df-quickchart-complete:disabled,\n",
              "  .colab-df-quickchart-complete:disabled:hover {\n",
              "    background-color: var(--disabled-bg-color);\n",
              "    fill: var(--disabled-fill-color);\n",
              "    box-shadow: none;\n",
              "  }\n",
              "\n",
              "  .colab-df-spinner {\n",
              "    border: 2px solid var(--fill-color);\n",
              "    border-color: transparent;\n",
              "    border-bottom-color: var(--fill-color);\n",
              "    animation:\n",
              "      spin 1s steps(1) infinite;\n",
              "  }\n",
              "\n",
              "  @keyframes spin {\n",
              "    0% {\n",
              "      border-color: transparent;\n",
              "      border-bottom-color: var(--fill-color);\n",
              "      border-left-color: var(--fill-color);\n",
              "    }\n",
              "    20% {\n",
              "      border-color: transparent;\n",
              "      border-left-color: var(--fill-color);\n",
              "      border-top-color: var(--fill-color);\n",
              "    }\n",
              "    30% {\n",
              "      border-color: transparent;\n",
              "      border-left-color: var(--fill-color);\n",
              "      border-top-color: var(--fill-color);\n",
              "      border-right-color: var(--fill-color);\n",
              "    }\n",
              "    40% {\n",
              "      border-color: transparent;\n",
              "      border-right-color: var(--fill-color);\n",
              "      border-top-color: var(--fill-color);\n",
              "    }\n",
              "    60% {\n",
              "      border-color: transparent;\n",
              "      border-right-color: var(--fill-color);\n",
              "    }\n",
              "    80% {\n",
              "      border-color: transparent;\n",
              "      border-right-color: var(--fill-color);\n",
              "      border-bottom-color: var(--fill-color);\n",
              "    }\n",
              "    90% {\n",
              "      border-color: transparent;\n",
              "      border-bottom-color: var(--fill-color);\n",
              "    }\n",
              "  }\n",
              "</style>\n",
              "\n",
              "  <script>\n",
              "    async function quickchart(key) {\n",
              "      const quickchartButtonEl =\n",
              "        document.querySelector('#' + key + ' button');\n",
              "      quickchartButtonEl.disabled = true;  // To prevent multiple clicks.\n",
              "      quickchartButtonEl.classList.add('colab-df-spinner');\n",
              "      try {\n",
              "        const charts = await google.colab.kernel.invokeFunction(\n",
              "            'suggestCharts', [key], {});\n",
              "      } catch (error) {\n",
              "        console.error('Error during call to suggestCharts:', error);\n",
              "      }\n",
              "      quickchartButtonEl.classList.remove('colab-df-spinner');\n",
              "      quickchartButtonEl.classList.add('colab-df-quickchart-complete');\n",
              "    }\n",
              "    (() => {\n",
              "      let quickchartButtonEl =\n",
              "        document.querySelector('#df-f84094c0-c112-4933-a84c-33d394e4f015 button');\n",
              "      quickchartButtonEl.style.display =\n",
              "        google.colab.kernel.accessAllowed ? 'block' : 'none';\n",
              "    })();\n",
              "  </script>\n",
              "</div>\n",
              "\n",
              "    </div>\n",
              "  </div>\n"
            ],
            "application/vnd.google.colaboratory.intrinsic+json": {
              "type": "dataframe",
              "variable_name": "df"
            }
          },
          "metadata": {},
          "execution_count": 73
        }
      ]
    },
    {
      "cell_type": "code",
      "source": [
        "#column information\n",
        "df.info()"
      ],
      "metadata": {
        "colab": {
          "base_uri": "https://localhost:8080/"
        },
        "id": "egM8peCSh9fh",
        "outputId": "6d9a18d1-7ae0-421d-f7ea-3234d4c09549"
      },
      "execution_count": null,
      "outputs": [
        {
          "output_type": "stream",
          "name": "stdout",
          "text": [
            "<class 'pandas.core.frame.DataFrame'>\n",
            "RangeIndex: 4601 entries, 0 to 4600\n",
            "Data columns (total 58 columns):\n",
            " #   Column                      Non-Null Count  Dtype  \n",
            "---  ------                      --------------  -----  \n",
            " 0   word_freq_make              4601 non-null   float64\n",
            " 1   word_freq_address           4601 non-null   float64\n",
            " 2   word_freq_all               4601 non-null   float64\n",
            " 3   word_freq_3d                4601 non-null   float64\n",
            " 4   word_freq_our               4601 non-null   float64\n",
            " 5   word_freq_over              4601 non-null   float64\n",
            " 6   word_freq_remove            4601 non-null   float64\n",
            " 7   word_freq_internet          4601 non-null   float64\n",
            " 8   word_freq_order             4601 non-null   float64\n",
            " 9   word_freq_mail              4601 non-null   float64\n",
            " 10  word_freq_receive           4601 non-null   float64\n",
            " 11  word_freq_will              4601 non-null   float64\n",
            " 12  word_freq_people            4601 non-null   float64\n",
            " 13  word_freq_report            4601 non-null   float64\n",
            " 14  word_freq_addresses         4601 non-null   float64\n",
            " 15  word_freq_free              4601 non-null   float64\n",
            " 16  word_freq_business          4601 non-null   float64\n",
            " 17  word_freq_email             4601 non-null   float64\n",
            " 18  word_freq_you               4601 non-null   float64\n",
            " 19  word_freq_credit            4601 non-null   float64\n",
            " 20  word_freq_your              4601 non-null   float64\n",
            " 21  word_freq_font              4601 non-null   float64\n",
            " 22  word_freq_000               4601 non-null   float64\n",
            " 23  word_freq_money             4601 non-null   float64\n",
            " 24  word_freq_hp                4601 non-null   float64\n",
            " 25  word_freq_hpl               4601 non-null   float64\n",
            " 26  word_freq_george            4601 non-null   float64\n",
            " 27  word_freq_650               4601 non-null   float64\n",
            " 28  word_freq_lab               4601 non-null   float64\n",
            " 29  word_freq_labs              4601 non-null   float64\n",
            " 30  word_freq_telnet            4601 non-null   float64\n",
            " 31  word_freq_857               4601 non-null   float64\n",
            " 32  word_freq_data              4601 non-null   float64\n",
            " 33  word_freq_415               4601 non-null   float64\n",
            " 34  word_freq_85                4601 non-null   float64\n",
            " 35  word_freq_technology        4601 non-null   float64\n",
            " 36  word_freq_1999              4601 non-null   float64\n",
            " 37  word_freq_parts             4601 non-null   float64\n",
            " 38  word_freq_pm                4601 non-null   float64\n",
            " 39  word_freq_direct            4601 non-null   float64\n",
            " 40  word_freq_cs                4601 non-null   float64\n",
            " 41  word_freq_meeting           4601 non-null   float64\n",
            " 42  word_freq_original          4601 non-null   float64\n",
            " 43  word_freq_project           4601 non-null   float64\n",
            " 44  word_freq_re                4601 non-null   float64\n",
            " 45  word_freq_edu               4601 non-null   float64\n",
            " 46  word_freq_table             4601 non-null   float64\n",
            " 47  word_freq_conference        4601 non-null   float64\n",
            " 48  char_freq_;                 4601 non-null   float64\n",
            " 49  char_freq_(                 4601 non-null   float64\n",
            " 50  char_freq_[                 4601 non-null   float64\n",
            " 51  char_freq_!                 4601 non-null   float64\n",
            " 52  char_freq_$                 4601 non-null   float64\n",
            " 53  char_freq_hash              4601 non-null   float64\n",
            " 54  capital_run_length_average  4601 non-null   float64\n",
            " 55  capital_run_length_longest  4601 non-null   int64  \n",
            " 56  capital_run_length_total    4601 non-null   int64  \n",
            " 57  spam                        4601 non-null   int64  \n",
            "dtypes: float64(55), int64(3)\n",
            "memory usage: 2.0 MB\n"
          ]
        }
      ]
    },
    {
      "cell_type": "code",
      "source": [
        "#checking the unique row\n",
        "\n",
        "df.nunique().sort_values()"
      ],
      "metadata": {
        "colab": {
          "base_uri": "https://localhost:8080/"
        },
        "id": "qG-jC4EFiLRt",
        "outputId": "b5caf278-4fc1-4b96-f2be-5d6c351a0402"
      },
      "execution_count": null,
      "outputs": [
        {
          "output_type": "execute_result",
          "data": {
            "text/plain": [
              "spam                             2\n",
              "word_freq_table                 38\n",
              "word_freq_3d                    43\n",
              "word_freq_parts                 53\n",
              "word_freq_font                  99\n",
              "word_freq_conference           106\n",
              "word_freq_857                  106\n",
              "word_freq_cs                   108\n",
              "word_freq_415                  110\n",
              "word_freq_receive              113\n",
              "word_freq_addresses            118\n",
              "word_freq_direct               125\n",
              "word_freq_telnet               128\n",
              "word_freq_report               133\n",
              "word_freq_original             136\n",
              "word_freq_over                 141\n",
              "word_freq_make                 142\n",
              "word_freq_money                143\n",
              "word_freq_order                144\n",
              "word_freq_credit               148\n",
              "word_freq_lab                  156\n",
              "word_freq_people               158\n",
              "word_freq_technology           159\n",
              "word_freq_project              160\n",
              "word_freq_pm                   163\n",
              "word_freq_000                  164\n",
              "word_freq_internet             170\n",
              "word_freq_address              171\n",
              "word_freq_remove               173\n",
              "word_freq_85                   177\n",
              "word_freq_labs                 179\n",
              "word_freq_data                 184\n",
              "word_freq_meeting              186\n",
              "word_freq_1999                 188\n",
              "word_freq_business             197\n",
              "word_freq_650                  200\n",
              "word_freq_all                  214\n",
              "char_freq_[                    225\n",
              "word_freq_edu                  227\n",
              "word_freq_email                229\n",
              "word_freq_re                   230\n",
              "word_freq_george               240\n",
              "word_freq_mail                 245\n",
              "word_freq_free                 253\n",
              "word_freq_our                  255\n",
              "capital_run_length_longest     271\n",
              "word_freq_hpl                  281\n",
              "char_freq_;                    313\n",
              "word_freq_will                 316\n",
              "char_freq_hash                 316\n",
              "word_freq_hp                   395\n",
              "word_freq_your                 401\n",
              "char_freq_$                    504\n",
              "word_freq_you                  575\n",
              "char_freq_(                    641\n",
              "capital_run_length_total       919\n",
              "char_freq_!                    964\n",
              "capital_run_length_average    2161\n",
              "dtype: int64"
            ]
          },
          "metadata": {},
          "execution_count": 59
        }
      ]
    },
    {
      "cell_type": "code",
      "source": [
        "#importing sklearn\n",
        "from sklearn.model_selection import train_test_split\n",
        "from sklearn.preprocessing import StandardScaler"
      ],
      "metadata": {
        "id": "YwD1b5yBg8L6"
      },
      "execution_count": null,
      "outputs": []
    },
    {
      "cell_type": "markdown",
      "source": [
        "SPLIT THE DATA INTO TARGET AND FEATURES"
      ],
      "metadata": {
        "id": "_5V9NGdHhGpe"
      }
    },
    {
      "cell_type": "code",
      "source": [
        "# Considering all the last but one columns as features\n",
        "X = df.iloc[:, :-1]\n",
        "\n",
        "#Considering the last column as target\n",
        "y = df.iloc[:, -1]"
      ],
      "metadata": {
        "id": "Lt1CTbcxhNiz"
      },
      "execution_count": null,
      "outputs": []
    },
    {
      "cell_type": "markdown",
      "source": [
        "Task B: SPLIT THE DATA INTO TRAIN AND TEST DATASET"
      ],
      "metadata": {
        "id": "R_vSgNy-gqgZ"
      }
    },
    {
      "cell_type": "code",
      "source": [
        "#type your code here\n"
      ],
      "metadata": {
        "id": "Cp4b9BIEgj3z"
      },
      "execution_count": null,
      "outputs": []
    },
    {
      "cell_type": "markdown",
      "source": [
        "TRAINING THE MODEL"
      ],
      "metadata": {
        "id": "XVobA0IckVLX"
      }
    },
    {
      "cell_type": "markdown",
      "source": [
        "Note: Choose a suitable Machine Learning Algorithm"
      ],
      "metadata": {
        "id": "nyur7sCnkuCk"
      }
    },
    {
      "cell_type": "markdown",
      "source": [
        "Task C: TRAIN THE MODEL\n",
        "\n",
        "\n",
        "Hint: Importing the scikit learn and evaluation metrics"
      ],
      "metadata": {
        "id": "GeKj8vNVk20U"
      }
    },
    {
      "cell_type": "code",
      "source": [
        "#type your code here\n"
      ],
      "metadata": {
        "id": "WskEH0nnksfj"
      },
      "execution_count": null,
      "outputs": []
    },
    {
      "cell_type": "markdown",
      "source": [
        "Task D: INITIALIZE AND FIT THE MODEL"
      ],
      "metadata": {
        "id": "tIzphBfblh8L"
      }
    },
    {
      "cell_type": "code",
      "source": [
        "#type your code here\n"
      ],
      "metadata": {
        "id": "oiqNC4M4lrYM"
      },
      "execution_count": null,
      "outputs": []
    },
    {
      "cell_type": "markdown",
      "source": [
        "Task E: EVALUATE THE MODEL (ACCURACY, PRECISION, F1, RECALL)"
      ],
      "metadata": {
        "id": "5he6AYodl90M"
      }
    },
    {
      "cell_type": "code",
      "source": [
        "#type your code here\n"
      ],
      "metadata": {
        "id": "S0IB3kkwmHIG"
      },
      "execution_count": null,
      "outputs": []
    }
  ],
  "metadata": {
    "colab": {
      "provenance": [],
      "include_colab_link": true
    },
    "kernelspec": {
      "display_name": "Python 3 (ipykernel)",
      "language": "python",
      "name": "python3"
    },
    "language_info": {
      "codemirror_mode": {
        "name": "ipython",
        "version": 3
      },
      "file_extension": ".py",
      "mimetype": "text/x-python",
      "name": "python",
      "nbconvert_exporter": "python",
      "pygments_lexer": "ipython3",
      "version": "3.11.3"
    }
  },
  "nbformat": 4,
  "nbformat_minor": 0
}